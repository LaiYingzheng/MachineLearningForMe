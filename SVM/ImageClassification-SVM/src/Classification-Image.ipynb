{
 "cells": [
  {
   "cell_type": "code",
   "execution_count": 5,
   "metadata": {},
   "outputs": [],
   "source": [
    "from pathlib import Path\n",
    "import matplotlib.pyplot as plt\n",
    "import numpy as np\n",
    "from sklearn import svm, metrics, datasets\n",
    "from sklearn.utils import Bunch\n",
    "from sklearn.model_selection import GridSearchCV, train_test_split\n",
    "\n",
    "from skimage.io import imread\n",
    "from skimage.transform import resize"
   ]
  },
  {
   "cell_type": "code",
   "execution_count": 11,
   "metadata": {
    "collapsed": true
   },
   "outputs": [
    {
     "ename": "NameError",
     "evalue": "name 'load_image_files' is not defined",
     "traceback": [
      "\u001b[0;31m---------------------------------------------------------------------------\u001b[0m",
      "\u001b[0;31mNameError\u001b[0m                                 Traceback (most recent call last)",
      "\u001b[0;32m<ipython-input-11-7617ce9eac15>\u001b[0m in \u001b[0;36m<module>\u001b[0;34m\u001b[0m\n\u001b[0;32m----> 1\u001b[0;31m \u001b[0mimage_dataset\u001b[0m \u001b[0;34m=\u001b[0m \u001b[0mload_image_files\u001b[0m\u001b[0;34m(\u001b[0m\u001b[0;34m\".images/\"\u001b[0m\u001b[0;34m)\u001b[0m\u001b[0;34m\u001b[0m\u001b[0;34m\u001b[0m\u001b[0m\n\u001b[0m",
      "\u001b[0;31mNameError\u001b[0m: name 'load_image_files' is not defined"
     ],
     "output_type": "error"
    }
   ],
   "source": [
    "def load_image_files(container_path, dimension = (64,64)):\n",
    "    '''\n",
    "    Load Images files with categories as subfolder names,\n",
    "    which performs like scikit-learn sample dataset\n",
    "    \n",
    "    Param:\n",
    "    ------\n",
    "    container_path: String or unicode\n",
    "        Path to the main folder holding one subfolder per category\n",
    "        \n",
    "    dimension: tuple\n",
    "        size to which image are adjusted to\n",
    "    \n",
    "    Returns:\n",
    "    -------\n",
    "    Bunch\n",
    "    '''\n",
    "    \n",
    "    image_dir = Path(container_path)\n",
    "    folders = [directory for directory in image_dir.iterdir() if directory.is_dir()]\n",
    "    '''\n",
    "    Path.iterdir()\n",
    "    >>> p = Path('docs')\n",
    "    >>> for child in p.iterdir(): child  \n",
    "        ...\n",
    "        PosixPath('docs/conf.py')\n",
    "        PosixPath('docs/_templates')\n",
    "        PosixPath('docs/make.bat')\n",
    "        PosixPath('docs/index.rst')\n",
    "        PosixPath('docs/_build')\n",
    "        PosixPath('docs/_static')\n",
    "        PosixPath('docs/Makefile')\n",
    "    '''\n",
    "    categories = [fo.name for fo in folders]\n",
    "    \n",
    "    descr = \"A image classification dataset\"\n",
    "    \n",
    "    image = []\n",
    "    flat_data = []\n",
    "    target = []\n",
    "    \n",
    "    for i, dirc in enumerate(folders):\n",
    "        '''\n",
    "        enumerate() 函数用于将一个可遍历的数据对象(如列表、元组或字符串)组合为一个索引序列，同时列出数据和数据下标，\n",
    "        一般用在 for 循环当中。\n",
    "        \n",
    "        >>>seasons = ['Spring', 'Summer', 'Fall', 'Winter']\n",
    "        >>> list(enumerate(seasons))\n",
    "            [(0, 'Spring'), (1, 'Summer'), (2, 'Fall'), (3, 'Winter')] \n",
    "        '''\n",
    "        \n",
    "        for file in direc.iterdir():\n",
    "            img = skimage.io.imread(file)\n",
    "            img_resize = resize(img, dimension, anti_alising = True, mode - 'reflect')\n",
    "            flat_data = append(img_resize)\n",
    "            target.append(flat_data)\n",
    "            \n",
    "    flat_data = np.array(flat_data)\n",
    "    target = np.array(target)\n",
    "    image = np.array(image)\n",
    "    \n",
    "    return Bunch(data = flat_data,\n",
    "                 target = target,\n",
    "                 target_name = categories,\n",
    "                 image = image,\n",
    "                 DESCR = descr)\n",
    "            \n",
    "        \n",
    "        \n",
    "        "
   ]
  },
  {
   "cell_type": "code",
   "execution_count": 12,
   "metadata": {
    "collapsed": true
   },
   "outputs": [
    {
     "ename": "NameError",
     "evalue": "name 'load_image_files' is not defined",
     "traceback": [
      "\u001b[0;31m---------------------------------------------------------------------------\u001b[0m",
      "\u001b[0;31mNameError\u001b[0m                                 Traceback (most recent call last)",
      "\u001b[0;32m<ipython-input-12-7617ce9eac15>\u001b[0m in \u001b[0;36m<module>\u001b[0;34m\u001b[0m\n\u001b[0;32m----> 1\u001b[0;31m \u001b[0mimage_dataset\u001b[0m \u001b[0;34m=\u001b[0m \u001b[0mload_image_files\u001b[0m\u001b[0;34m(\u001b[0m\u001b[0;34m\".images/\"\u001b[0m\u001b[0;34m)\u001b[0m\u001b[0;34m\u001b[0m\u001b[0;34m\u001b[0m\u001b[0m\n\u001b[0m",
      "\u001b[0;31mNameError\u001b[0m: name 'load_image_files' is not defined"
     ],
     "output_type": "error"
    }
   ],
   "source": [
    "    image_dataset = load_image_files(\".images/\")"
   ]
  },
  {
   "cell_type": "code",
   "execution_count": null,
   "metadata": {},
   "outputs": [],
   "source": []
  }
 ],
 "metadata": {
  "kernelspec": {
   "display_name": "Python 3",
   "language": "python",
   "name": "python3"
  },
  "language_info": {
   "codemirror_mode": {
    "name": "ipython",
    "version": 3
   },
   "file_extension": ".py",
   "mimetype": "text/x-python",
   "name": "python",
   "nbconvert_exporter": "python",
   "pygments_lexer": "ipython3",
   "version": "3.7.2"
  }
 },
 "nbformat": 4,
 "nbformat_minor": 2
}
